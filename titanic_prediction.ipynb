{
  "nbformat": 4,
  "nbformat_minor": 0,
  "metadata": {
    "colab": {
      "name": "titanic_prediction.ipynb",
      "provenance": [],
      "authorship_tag": "ABX9TyMYQjVMbWwglm83ZIt5lEu3"
    },
    "kernelspec": {
      "name": "python3",
      "display_name": "Python 3"
    }
  },
  "cells": [
    {
      "cell_type": "code",
      "metadata": {
        "id": "ggPksmxG-9w5"
      },
      "source": [
        "from google.colab import files\n",
        "import io\n",
        "import pandas as pd\n",
        "import numpy as np\n",
        "import seaborn as sns\n",
        "import  matplotlib.pyplot as plt\n",
        "from sklearn.preprocessing import LabelEncoder\n",
        "from sklearn.impute import SimpleImputer\n",
        "from sklearn.model_selection import train_test_split\n",
        "import math\n",
        "from sklearn.metrics import mean_absolute_error\n",
        "from sklearn.ensemble import RandomForestRegressor\n",
        "from sklearn.metrics import confusion_matrix\n",
        "from keras.models import Sequential\n",
        "from keras.layers import Dense"
      ],
      "execution_count": 3,
      "outputs": []
    },
    {
      "cell_type": "code",
      "metadata": {
        "id": "taibhG-A_AXg"
      },
      "source": [
        "uploaded = files.upload()\n",
        "\n",
        "uploaded2 = files.upload()\n",
        "\n"
      ],
      "execution_count": null,
      "outputs": []
    },
    {
      "cell_type": "code",
      "metadata": {
        "id": "7zB8Eb57_L4Q"
      },
      "source": [
        "titanic_train = pd.read_csv(io.BytesIO(uploaded['train.csv']))\n",
        "#titanic_train = pd.read_csv('train.csv')\n",
        "\n",
        "titanic_test = pd.read_csv(io.BytesIO(uploaded2['test.csv']))\n",
        "#titanic_test = pd.read_csv('test.csv')"
      ],
      "execution_count": 35,
      "outputs": []
    },
    {
      "cell_type": "code",
      "metadata": {
        "id": "ucWdPcNk_bg2",
        "outputId": "762380d2-2cd9-445c-879c-bb8e2449d87c",
        "colab": {
          "base_uri": "https://localhost:8080/",
          "height": 364
        }
      },
      "source": [
        "#data browsing\n",
        "titanic_test.head()\n",
        "\n",
        "titanic_train.info()\n",
        "\n",
        "titanic_train = titanic_train.set_index('PassengerId')\n",
        "\n",
        "titanic_train.head()\n",
        "\n",
        "titanic_train.isnull().sum()\n",
        "\n",
        "titanic_train.loc[titanic_train['Age'].isnull()]\n",
        "\n",
        "titanic_train.groupby('Pclass').mean()['Survived']\n",
        "\n",
        "titanic_train_num = titanic_train.select_dtypes(include=[np.number])\n",
        "titanic_train_num.columns"
      ],
      "execution_count": 6,
      "outputs": [
        {
          "output_type": "stream",
          "text": [
            "<class 'pandas.core.frame.DataFrame'>\n",
            "RangeIndex: 891 entries, 0 to 890\n",
            "Data columns (total 12 columns):\n",
            " #   Column       Non-Null Count  Dtype  \n",
            "---  ------       --------------  -----  \n",
            " 0   PassengerId  891 non-null    int64  \n",
            " 1   Survived     891 non-null    int64  \n",
            " 2   Pclass       891 non-null    int64  \n",
            " 3   Name         891 non-null    object \n",
            " 4   Sex          891 non-null    object \n",
            " 5   Age          714 non-null    float64\n",
            " 6   SibSp        891 non-null    int64  \n",
            " 7   Parch        891 non-null    int64  \n",
            " 8   Ticket       891 non-null    object \n",
            " 9   Fare         891 non-null    float64\n",
            " 10  Cabin        204 non-null    object \n",
            " 11  Embarked     889 non-null    object \n",
            "dtypes: float64(2), int64(5), object(5)\n",
            "memory usage: 83.7+ KB\n"
          ],
          "name": "stdout"
        },
        {
          "output_type": "execute_result",
          "data": {
            "text/plain": [
              "Index(['Survived', 'Pclass', 'Age', 'SibSp', 'Parch', 'Fare'], dtype='object')"
            ]
          },
          "metadata": {
            "tags": []
          },
          "execution_count": 6
        }
      ]
    },
    {
      "cell_type": "code",
      "metadata": {
        "id": "msksXlLf_fBq",
        "outputId": "318c097d-b55a-4f07-8ef1-6eee6e5a9fbd",
        "colab": {
          "base_uri": "https://localhost:8080/",
          "height": 1000
        }
      },
      "source": [
        "#browsing the survival rate in each group\n",
        "for j in ['Pclass', 'Age', 'SibSp', 'Parch', 'Fare']:\n",
        "  print(titanic_train_num.groupby(j).mean()['Survived'])\n",
        "\n",
        "titanic_train_obj = titanic_train.select_dtypes(exclude=[np.number])\n",
        "titanic_train_obj"
      ],
      "execution_count": 7,
      "outputs": [
        {
          "output_type": "stream",
          "text": [
            "Pclass\n",
            "1    0.629630\n",
            "2    0.472826\n",
            "3    0.242363\n",
            "Name: Survived, dtype: float64\n",
            "Age\n",
            "0.42     1.0\n",
            "0.67     1.0\n",
            "0.75     1.0\n",
            "0.83     1.0\n",
            "0.92     1.0\n",
            "        ... \n",
            "70.00    0.0\n",
            "70.50    0.0\n",
            "71.00    0.0\n",
            "74.00    0.0\n",
            "80.00    1.0\n",
            "Name: Survived, Length: 88, dtype: float64\n",
            "SibSp\n",
            "0    0.345395\n",
            "1    0.535885\n",
            "2    0.464286\n",
            "3    0.250000\n",
            "4    0.166667\n",
            "5    0.000000\n",
            "8    0.000000\n",
            "Name: Survived, dtype: float64\n",
            "Parch\n",
            "0    0.343658\n",
            "1    0.550847\n",
            "2    0.500000\n",
            "3    0.600000\n",
            "4    0.000000\n",
            "5    0.200000\n",
            "6    0.000000\n",
            "Name: Survived, dtype: float64\n",
            "Fare\n",
            "0.0000      0.066667\n",
            "4.0125      0.000000\n",
            "5.0000      0.000000\n",
            "6.2375      0.000000\n",
            "6.4375      0.000000\n",
            "              ...   \n",
            "227.5250    0.750000\n",
            "247.5208    0.500000\n",
            "262.3750    1.000000\n",
            "263.0000    0.500000\n",
            "512.3292    1.000000\n",
            "Name: Survived, Length: 248, dtype: float64\n"
          ],
          "name": "stdout"
        },
        {
          "output_type": "execute_result",
          "data": {
            "text/html": [
              "<div>\n",
              "<style scoped>\n",
              "    .dataframe tbody tr th:only-of-type {\n",
              "        vertical-align: middle;\n",
              "    }\n",
              "\n",
              "    .dataframe tbody tr th {\n",
              "        vertical-align: top;\n",
              "    }\n",
              "\n",
              "    .dataframe thead th {\n",
              "        text-align: right;\n",
              "    }\n",
              "</style>\n",
              "<table border=\"1\" class=\"dataframe\">\n",
              "  <thead>\n",
              "    <tr style=\"text-align: right;\">\n",
              "      <th></th>\n",
              "      <th>Name</th>\n",
              "      <th>Sex</th>\n",
              "      <th>Ticket</th>\n",
              "      <th>Cabin</th>\n",
              "      <th>Embarked</th>\n",
              "    </tr>\n",
              "    <tr>\n",
              "      <th>PassengerId</th>\n",
              "      <th></th>\n",
              "      <th></th>\n",
              "      <th></th>\n",
              "      <th></th>\n",
              "      <th></th>\n",
              "    </tr>\n",
              "  </thead>\n",
              "  <tbody>\n",
              "    <tr>\n",
              "      <th>1</th>\n",
              "      <td>Braund, Mr. Owen Harris</td>\n",
              "      <td>male</td>\n",
              "      <td>A/5 21171</td>\n",
              "      <td>NaN</td>\n",
              "      <td>S</td>\n",
              "    </tr>\n",
              "    <tr>\n",
              "      <th>2</th>\n",
              "      <td>Cumings, Mrs. John Bradley (Florence Briggs Th...</td>\n",
              "      <td>female</td>\n",
              "      <td>PC 17599</td>\n",
              "      <td>C85</td>\n",
              "      <td>C</td>\n",
              "    </tr>\n",
              "    <tr>\n",
              "      <th>3</th>\n",
              "      <td>Heikkinen, Miss. Laina</td>\n",
              "      <td>female</td>\n",
              "      <td>STON/O2. 3101282</td>\n",
              "      <td>NaN</td>\n",
              "      <td>S</td>\n",
              "    </tr>\n",
              "    <tr>\n",
              "      <th>4</th>\n",
              "      <td>Futrelle, Mrs. Jacques Heath (Lily May Peel)</td>\n",
              "      <td>female</td>\n",
              "      <td>113803</td>\n",
              "      <td>C123</td>\n",
              "      <td>S</td>\n",
              "    </tr>\n",
              "    <tr>\n",
              "      <th>5</th>\n",
              "      <td>Allen, Mr. William Henry</td>\n",
              "      <td>male</td>\n",
              "      <td>373450</td>\n",
              "      <td>NaN</td>\n",
              "      <td>S</td>\n",
              "    </tr>\n",
              "    <tr>\n",
              "      <th>...</th>\n",
              "      <td>...</td>\n",
              "      <td>...</td>\n",
              "      <td>...</td>\n",
              "      <td>...</td>\n",
              "      <td>...</td>\n",
              "    </tr>\n",
              "    <tr>\n",
              "      <th>887</th>\n",
              "      <td>Montvila, Rev. Juozas</td>\n",
              "      <td>male</td>\n",
              "      <td>211536</td>\n",
              "      <td>NaN</td>\n",
              "      <td>S</td>\n",
              "    </tr>\n",
              "    <tr>\n",
              "      <th>888</th>\n",
              "      <td>Graham, Miss. Margaret Edith</td>\n",
              "      <td>female</td>\n",
              "      <td>112053</td>\n",
              "      <td>B42</td>\n",
              "      <td>S</td>\n",
              "    </tr>\n",
              "    <tr>\n",
              "      <th>889</th>\n",
              "      <td>Johnston, Miss. Catherine Helen \"Carrie\"</td>\n",
              "      <td>female</td>\n",
              "      <td>W./C. 6607</td>\n",
              "      <td>NaN</td>\n",
              "      <td>S</td>\n",
              "    </tr>\n",
              "    <tr>\n",
              "      <th>890</th>\n",
              "      <td>Behr, Mr. Karl Howell</td>\n",
              "      <td>male</td>\n",
              "      <td>111369</td>\n",
              "      <td>C148</td>\n",
              "      <td>C</td>\n",
              "    </tr>\n",
              "    <tr>\n",
              "      <th>891</th>\n",
              "      <td>Dooley, Mr. Patrick</td>\n",
              "      <td>male</td>\n",
              "      <td>370376</td>\n",
              "      <td>NaN</td>\n",
              "      <td>Q</td>\n",
              "    </tr>\n",
              "  </tbody>\n",
              "</table>\n",
              "<p>891 rows × 5 columns</p>\n",
              "</div>"
            ],
            "text/plain": [
              "                                                          Name  ... Embarked\n",
              "PassengerId                                                     ...         \n",
              "1                                      Braund, Mr. Owen Harris  ...        S\n",
              "2            Cumings, Mrs. John Bradley (Florence Briggs Th...  ...        C\n",
              "3                                       Heikkinen, Miss. Laina  ...        S\n",
              "4                 Futrelle, Mrs. Jacques Heath (Lily May Peel)  ...        S\n",
              "5                                     Allen, Mr. William Henry  ...        S\n",
              "...                                                        ...  ...      ...\n",
              "887                                      Montvila, Rev. Juozas  ...        S\n",
              "888                               Graham, Miss. Margaret Edith  ...        S\n",
              "889                   Johnston, Miss. Catherine Helen \"Carrie\"  ...        S\n",
              "890                                      Behr, Mr. Karl Howell  ...        C\n",
              "891                                        Dooley, Mr. Patrick  ...        Q\n",
              "\n",
              "[891 rows x 5 columns]"
            ]
          },
          "metadata": {
            "tags": []
          },
          "execution_count": 7
        }
      ]
    },
    {
      "cell_type": "code",
      "metadata": {
        "id": "iG-VINyL_qHW"
      },
      "source": [
        "for i in titanic_train_obj:\n",
        "  print(titanic_train.groupby(i).mean()['Survived'])\n",
        "\n",
        "Feature_list_obj = ['Sex','Embarked']\n",
        "\n",
        "Feature_list_num = []\n",
        "#---------above-----data scanning------#"
      ],
      "execution_count": null,
      "outputs": []
    },
    {
      "cell_type": "code",
      "metadata": {
        "id": "dESwgh00__7M",
        "outputId": "834822fa-5758-44e4-9797-faeae0a0f487",
        "colab": {
          "base_uri": "https://localhost:8080/",
          "height": 171
        }
      },
      "source": [
        "#preprocessing data\n",
        "X = titanic_train.drop(['Survived'], axis=1) #training data\n",
        "y = titanic_train['Survived'] #prediction\n",
        "\n",
        "X['AgeGroup']=pd.cut(X['Age'],[0,19,65,100], labels=['Minor','Adult','Elder']) #age catgorized\n",
        "\n",
        "X = X.drop(['Age'], axis=1)\n",
        "\n",
        "\n",
        "\n",
        "X_null_check = X.loc[X['AgeGroup'].isnull()] #Null check\n",
        "\n",
        "X.groupby('AgeGroup').mean()\n"
      ],
      "execution_count": 9,
      "outputs": [
        {
          "output_type": "execute_result",
          "data": {
            "text/html": [
              "<div>\n",
              "<style scoped>\n",
              "    .dataframe tbody tr th:only-of-type {\n",
              "        vertical-align: middle;\n",
              "    }\n",
              "\n",
              "    .dataframe tbody tr th {\n",
              "        vertical-align: top;\n",
              "    }\n",
              "\n",
              "    .dataframe thead th {\n",
              "        text-align: right;\n",
              "    }\n",
              "</style>\n",
              "<table border=\"1\" class=\"dataframe\">\n",
              "  <thead>\n",
              "    <tr style=\"text-align: right;\">\n",
              "      <th></th>\n",
              "      <th>Pclass</th>\n",
              "      <th>SibSp</th>\n",
              "      <th>Parch</th>\n",
              "      <th>Fare</th>\n",
              "    </tr>\n",
              "    <tr>\n",
              "      <th>AgeGroup</th>\n",
              "      <th></th>\n",
              "      <th></th>\n",
              "      <th></th>\n",
              "      <th></th>\n",
              "    </tr>\n",
              "  </thead>\n",
              "  <tbody>\n",
              "    <tr>\n",
              "      <th>Minor</th>\n",
              "      <td>2.530488</td>\n",
              "      <td>1.115854</td>\n",
              "      <td>0.823171</td>\n",
              "      <td>31.794741</td>\n",
              "    </tr>\n",
              "    <tr>\n",
              "      <th>Adult</th>\n",
              "      <td>2.154982</td>\n",
              "      <td>0.335793</td>\n",
              "      <td>0.317343</td>\n",
              "      <td>35.675022</td>\n",
              "    </tr>\n",
              "    <tr>\n",
              "      <th>Elder</th>\n",
              "      <td>1.750000</td>\n",
              "      <td>0.125000</td>\n",
              "      <td>0.125000</td>\n",
              "      <td>27.710425</td>\n",
              "    </tr>\n",
              "  </tbody>\n",
              "</table>\n",
              "</div>"
            ],
            "text/plain": [
              "            Pclass     SibSp     Parch       Fare\n",
              "AgeGroup                                         \n",
              "Minor     2.530488  1.115854  0.823171  31.794741\n",
              "Adult     2.154982  0.335793  0.317343  35.675022\n",
              "Elder     1.750000  0.125000  0.125000  27.710425"
            ]
          },
          "metadata": {
            "tags": []
          },
          "execution_count": 9
        }
      ]
    },
    {
      "cell_type": "code",
      "metadata": {
        "id": "0MqtyJkCAIhl"
      },
      "source": [
        "#Fill in NaN in ['AgeGroup']\n",
        "for id in X_null_check.index:\n",
        "  if X.loc[id,'SibSp'] >= 1  and X.loc[id, 'Parch'] >= 1:\n",
        "    X.loc[id,'AgeGroup'] = 'Minor'\n",
        "  elif X.loc[id,'SibSp'] >= 1 or X.loc[id, 'Parch'] >= 1:\n",
        "    X.loc[id,'AgeGroup'] = 'Adult'\n",
        "  else:\n",
        "    X.loc[id,'AgeGroup'] = 'Elder'"
      ],
      "execution_count": 10,
      "outputs": []
    },
    {
      "cell_type": "code",
      "metadata": {
        "id": "vEICHYx2ARSS",
        "outputId": "97736104-c81a-4697-82ae-99859095db58",
        "colab": {
          "base_uri": "https://localhost:8080/",
          "height": 156
        }
      },
      "source": [
        "#checking if any null\n",
        "X.isnull().sum()\n",
        "\n",
        "X = X.drop('Cabin', axis=1)\n",
        "\n",
        "X = X.drop('Ticket', axis=1)\n",
        "\n",
        "X = X.drop('Name', axis=1)\n",
        "\n",
        "X.isnull().sum()\n",
        "\n",
        "X.loc[X['Embarked'].isnull()]\n",
        "\n",
        "mode = X['Embarked'].mode().values[0]\n",
        "X['Embarked'] = X['Embarked'].fillna(value=mode) #FillNA with Mode\n",
        "\n",
        "X.isnull().sum()"
      ],
      "execution_count": 11,
      "outputs": [
        {
          "output_type": "execute_result",
          "data": {
            "text/plain": [
              "Pclass      0\n",
              "Sex         0\n",
              "SibSp       0\n",
              "Parch       0\n",
              "Fare        0\n",
              "Embarked    0\n",
              "AgeGroup    0\n",
              "dtype: int64"
            ]
          },
          "metadata": {
            "tags": []
          },
          "execution_count": 11
        }
      ]
    },
    {
      "cell_type": "code",
      "metadata": {
        "id": "dNqhshm8ATzZ"
      },
      "source": [
        "# Split Train and Validation set\n",
        "X_train, X_valid, y_train, y_valid = train_test_split(X, y, test_size=0.25, random_state=1)\n",
        "\n",
        "for i in X_train.columns:\n",
        "  print(X_train[i].dtype != 'int64')\n",
        "\n",
        "object_cols = [cols for cols in X.columns if (X[cols].dtype != 'int64') & (X[cols].dtype != 'float64')]\n",
        "\n",
        "object_cols"
      ],
      "execution_count": null,
      "outputs": []
    },
    {
      "cell_type": "code",
      "metadata": {
        "id": "BRO-N33yAb91"
      },
      "source": [
        "def score_dataset(X_train, X_test, y_train, y_test):\n",
        "  model = RandomForestRegressor()\n",
        "  model.fit(X_train, y_train)\n",
        "  preds = model.predict(X_test)\n",
        "  return mean_absolute_error(y_test, preds)\n",
        "\n",
        "label_X_train = X_train.copy()\n",
        "label_X_valid = X_valid.copy()"
      ],
      "execution_count": 13,
      "outputs": []
    },
    {
      "cell_type": "code",
      "metadata": {
        "id": "_KwySnIYAgdv",
        "outputId": "c94566a7-1c91-41c7-d2d9-c0e76628ba94",
        "colab": {
          "base_uri": "https://localhost:8080/",
          "height": 481
        }
      },
      "source": [
        "#Apply label encoder to each column with categorical data\n",
        "#label_encoder\n",
        "label_encoder = LabelEncoder()\n",
        "for col in object_cols:\n",
        "  label_X_train[col] = label_encoder.fit_transform(X_train[col])\n",
        "  label_X_valid[col] = label_encoder.transform(X_valid[col])\n",
        "\n",
        "print('MAE from label encoding:')\n",
        "print(score_dataset(label_X_train, label_X_valid, y_train, y_valid))\n",
        "\n",
        "label_X_train #check value after numerized"
      ],
      "execution_count": 14,
      "outputs": [
        {
          "output_type": "stream",
          "text": [
            "MAE from label encoding:\n",
            "0.25714771912426854\n"
          ],
          "name": "stdout"
        },
        {
          "output_type": "execute_result",
          "data": {
            "text/html": [
              "<div>\n",
              "<style scoped>\n",
              "    .dataframe tbody tr th:only-of-type {\n",
              "        vertical-align: middle;\n",
              "    }\n",
              "\n",
              "    .dataframe tbody tr th {\n",
              "        vertical-align: top;\n",
              "    }\n",
              "\n",
              "    .dataframe thead th {\n",
              "        text-align: right;\n",
              "    }\n",
              "</style>\n",
              "<table border=\"1\" class=\"dataframe\">\n",
              "  <thead>\n",
              "    <tr style=\"text-align: right;\">\n",
              "      <th></th>\n",
              "      <th>Pclass</th>\n",
              "      <th>Sex</th>\n",
              "      <th>SibSp</th>\n",
              "      <th>Parch</th>\n",
              "      <th>Fare</th>\n",
              "      <th>Embarked</th>\n",
              "      <th>AgeGroup</th>\n",
              "    </tr>\n",
              "    <tr>\n",
              "      <th>PassengerId</th>\n",
              "      <th></th>\n",
              "      <th></th>\n",
              "      <th></th>\n",
              "      <th></th>\n",
              "      <th></th>\n",
              "      <th></th>\n",
              "      <th></th>\n",
              "    </tr>\n",
              "  </thead>\n",
              "  <tbody>\n",
              "    <tr>\n",
              "      <th>36</th>\n",
              "      <td>1</td>\n",
              "      <td>1</td>\n",
              "      <td>1</td>\n",
              "      <td>0</td>\n",
              "      <td>52.0000</td>\n",
              "      <td>2</td>\n",
              "      <td>0</td>\n",
              "    </tr>\n",
              "    <tr>\n",
              "      <th>47</th>\n",
              "      <td>3</td>\n",
              "      <td>1</td>\n",
              "      <td>1</td>\n",
              "      <td>0</td>\n",
              "      <td>15.5000</td>\n",
              "      <td>1</td>\n",
              "      <td>0</td>\n",
              "    </tr>\n",
              "    <tr>\n",
              "      <th>454</th>\n",
              "      <td>1</td>\n",
              "      <td>1</td>\n",
              "      <td>1</td>\n",
              "      <td>0</td>\n",
              "      <td>89.1042</td>\n",
              "      <td>0</td>\n",
              "      <td>0</td>\n",
              "    </tr>\n",
              "    <tr>\n",
              "      <th>292</th>\n",
              "      <td>1</td>\n",
              "      <td>0</td>\n",
              "      <td>1</td>\n",
              "      <td>0</td>\n",
              "      <td>91.0792</td>\n",
              "      <td>0</td>\n",
              "      <td>2</td>\n",
              "    </tr>\n",
              "    <tr>\n",
              "      <th>749</th>\n",
              "      <td>1</td>\n",
              "      <td>1</td>\n",
              "      <td>1</td>\n",
              "      <td>0</td>\n",
              "      <td>53.1000</td>\n",
              "      <td>2</td>\n",
              "      <td>2</td>\n",
              "    </tr>\n",
              "    <tr>\n",
              "      <th>...</th>\n",
              "      <td>...</td>\n",
              "      <td>...</td>\n",
              "      <td>...</td>\n",
              "      <td>...</td>\n",
              "      <td>...</td>\n",
              "      <td>...</td>\n",
              "      <td>...</td>\n",
              "    </tr>\n",
              "    <tr>\n",
              "      <th>716</th>\n",
              "      <td>3</td>\n",
              "      <td>1</td>\n",
              "      <td>0</td>\n",
              "      <td>0</td>\n",
              "      <td>7.6500</td>\n",
              "      <td>2</td>\n",
              "      <td>2</td>\n",
              "    </tr>\n",
              "    <tr>\n",
              "      <th>768</th>\n",
              "      <td>3</td>\n",
              "      <td>0</td>\n",
              "      <td>0</td>\n",
              "      <td>0</td>\n",
              "      <td>7.7500</td>\n",
              "      <td>1</td>\n",
              "      <td>0</td>\n",
              "    </tr>\n",
              "    <tr>\n",
              "      <th>73</th>\n",
              "      <td>2</td>\n",
              "      <td>1</td>\n",
              "      <td>0</td>\n",
              "      <td>0</td>\n",
              "      <td>73.5000</td>\n",
              "      <td>2</td>\n",
              "      <td>0</td>\n",
              "    </tr>\n",
              "    <tr>\n",
              "      <th>236</th>\n",
              "      <td>3</td>\n",
              "      <td>0</td>\n",
              "      <td>0</td>\n",
              "      <td>0</td>\n",
              "      <td>7.5500</td>\n",
              "      <td>2</td>\n",
              "      <td>1</td>\n",
              "    </tr>\n",
              "    <tr>\n",
              "      <th>38</th>\n",
              "      <td>3</td>\n",
              "      <td>1</td>\n",
              "      <td>0</td>\n",
              "      <td>0</td>\n",
              "      <td>8.0500</td>\n",
              "      <td>2</td>\n",
              "      <td>0</td>\n",
              "    </tr>\n",
              "  </tbody>\n",
              "</table>\n",
              "<p>668 rows × 7 columns</p>\n",
              "</div>"
            ],
            "text/plain": [
              "             Pclass  Sex  SibSp  Parch     Fare  Embarked  AgeGroup\n",
              "PassengerId                                                        \n",
              "36                1    1      1      0  52.0000         2         0\n",
              "47                3    1      1      0  15.5000         1         0\n",
              "454               1    1      1      0  89.1042         0         0\n",
              "292               1    0      1      0  91.0792         0         2\n",
              "749               1    1      1      0  53.1000         2         2\n",
              "...             ...  ...    ...    ...      ...       ...       ...\n",
              "716               3    1      0      0   7.6500         2         2\n",
              "768               3    0      0      0   7.7500         1         0\n",
              "73                2    1      0      0  73.5000         2         0\n",
              "236               3    0      0      0   7.5500         2         1\n",
              "38                3    1      0      0   8.0500         2         0\n",
              "\n",
              "[668 rows x 7 columns]"
            ]
          },
          "metadata": {
            "tags": []
          },
          "execution_count": 14
        }
      ]
    },
    {
      "cell_type": "code",
      "metadata": {
        "id": "w-hC2TpYAjkI",
        "outputId": "38fac1da-ac8d-40c8-b4dd-a1f2cfd5cf00",
        "colab": {
          "base_uri": "https://localhost:8080/",
          "height": 676
        }
      },
      "source": [
        "#testing and recording MAE in different n_estimators\n",
        "MAE = {} \n",
        "for i in range(100,1001, 50):\n",
        "  model = RandomForestRegressor(n_estimators=i, criterion='mse')\n",
        "  model.fit(label_X_train, y_train)\n",
        "  preds = model.predict(label_X_valid)\n",
        "  print(f'n_estimators={i}:','MAE:', mean_absolute_error(y_valid, preds))\n",
        "  MAE[f'n_estimators={i}'] = mean_absolute_error(y_valid, preds)\n",
        "\n",
        "sorted_MAE_RFR = sorted(MAE.items(), key=lambda kv: kv[1])\n",
        "\n",
        "sorted_MAE_RFR"
      ],
      "execution_count": 15,
      "outputs": [
        {
          "output_type": "stream",
          "text": [
            "n_estimators=100: MAE: 0.26020569691469875\n",
            "n_estimators=150: MAE: 0.261679910457112\n",
            "n_estimators=200: MAE: 0.2585447091133172\n",
            "n_estimators=250: MAE: 0.2592734540974193\n",
            "n_estimators=300: MAE: 0.25901007729874637\n",
            "n_estimators=350: MAE: 0.2607335243970206\n",
            "n_estimators=400: MAE: 0.2602442796770439\n",
            "n_estimators=450: MAE: 0.2600676559611921\n",
            "n_estimators=500: MAE: 0.26018571533534485\n",
            "n_estimators=550: MAE: 0.2604790608701569\n",
            "n_estimators=600: MAE: 0.25973495165408816\n",
            "n_estimators=650: MAE: 0.26097424147654563\n",
            "n_estimators=700: MAE: 0.2593455283039135\n",
            "n_estimators=750: MAE: 0.2586424829432147\n",
            "n_estimators=800: MAE: 0.2609751923980429\n",
            "n_estimators=850: MAE: 0.25942298384341783\n",
            "n_estimators=900: MAE: 0.2603649516473499\n",
            "n_estimators=950: MAE: 0.26123350822911445\n",
            "n_estimators=1000: MAE: 0.25954546285945224\n"
          ],
          "name": "stdout"
        },
        {
          "output_type": "execute_result",
          "data": {
            "text/plain": [
              "[('n_estimators=200', 0.2585447091133172),\n",
              " ('n_estimators=750', 0.2586424829432147),\n",
              " ('n_estimators=300', 0.25901007729874637),\n",
              " ('n_estimators=250', 0.2592734540974193),\n",
              " ('n_estimators=700', 0.2593455283039135),\n",
              " ('n_estimators=850', 0.25942298384341783),\n",
              " ('n_estimators=1000', 0.25954546285945224),\n",
              " ('n_estimators=600', 0.25973495165408816),\n",
              " ('n_estimators=450', 0.2600676559611921),\n",
              " ('n_estimators=500', 0.26018571533534485),\n",
              " ('n_estimators=100', 0.26020569691469875),\n",
              " ('n_estimators=400', 0.2602442796770439),\n",
              " ('n_estimators=900', 0.2603649516473499),\n",
              " ('n_estimators=550', 0.2604790608701569),\n",
              " ('n_estimators=350', 0.2607335243970206),\n",
              " ('n_estimators=650', 0.26097424147654563),\n",
              " ('n_estimators=800', 0.2609751923980429),\n",
              " ('n_estimators=950', 0.26123350822911445),\n",
              " ('n_estimators=150', 0.261679910457112)]"
            ]
          },
          "metadata": {
            "tags": []
          },
          "execution_count": 15
        }
      ]
    },
    {
      "cell_type": "code",
      "metadata": {
        "id": "sabPaRxMAoVn",
        "outputId": "1138f7d3-7b24-4d45-c4ca-525b2f0363bd",
        "colab": {
          "base_uri": "https://localhost:8080/",
          "height": 69
        }
      },
      "source": [
        "#Selecting 200 as n_estimators parameter\n",
        "model = RandomForestRegressor(n_estimators=200, criterion='mse')\n",
        "model.fit(label_X_train, y_train)\n",
        "preds = model.predict(label_X_valid)\n",
        "print(f'n_estimators={i}:','MAE:', mean_absolute_error(y_valid, preds))\n",
        "\n",
        "preds_round = preds.round()\n",
        "\n",
        "#using confusion metrix to check the accuracy\n",
        "cm = confusion_matrix(y_valid, preds_round)\n",
        "\n",
        "cm"
      ],
      "execution_count": 16,
      "outputs": [
        {
          "output_type": "stream",
          "text": [
            "n_estimators=1000: MAE: 0.26245194731871013\n"
          ],
          "name": "stdout"
        },
        {
          "output_type": "execute_result",
          "data": {
            "text/plain": [
              "array([[115,  13],\n",
              "       [ 38,  57]])"
            ]
          },
          "metadata": {
            "tags": []
          },
          "execution_count": 16
        }
      ]
    },
    {
      "cell_type": "code",
      "metadata": {
        "id": "dPCm4nBQBD0P",
        "outputId": "d79fdef6-25a7-4a2a-d036-71cc6164790a",
        "colab": {
          "base_uri": "https://localhost:8080/",
          "height": 35
        }
      },
      "source": [
        "#predcitions accuracy\n",
        "correct_predicts = 0\n",
        "total_predicts = 0\n",
        "for i in range(len(y_valid)):\n",
        "  if y_valid.iloc[i] == preds_round[i]:\n",
        "    correct_predicts += 1\n",
        "  total_predicts +=1\n",
        "print('prediction accuracy = {}'.format(correct_predicts/total_predicts))"
      ],
      "execution_count": 17,
      "outputs": [
        {
          "output_type": "stream",
          "text": [
            "prediction accuracy = 0.7713004484304933\n"
          ],
          "name": "stdout"
        }
      ]
    },
    {
      "cell_type": "code",
      "metadata": {
        "id": "Ss7UNJGwBk-_"
      },
      "source": [
        "#------------Preprocessing \"tes\"t data---------------#\n",
        "\n",
        "titanic_test = titanic_test.set_index('PassengerId')\n",
        "\n",
        "titanic_test.shape\n",
        "\n",
        "titanic_test['AgeGroup']=pd.cut(titanic_test['Age'],[0,19,65,100], labels=['Minor','Adult','Elder']) #age catgorized\n",
        "\n",
        "titanic_test.isnull().sum()\n",
        "\n",
        "label_X_train.columns\n",
        "\n",
        "label_X_train_cols = []\n",
        "for i in label_X_train.columns:\n",
        "  label_X_train_cols.append(i)\n",
        "\n",
        "titanic_test = titanic_test.drop('Age', axis=1)\n",
        "\n",
        "T = titanic_test\n",
        "\n",
        "T.loc[T['AgeGroup'].isnull()]\n",
        "\n",
        "T_null_check = T.loc[T['AgeGroup'].isnull()] #Null check\n",
        "\n",
        "T_null_check.index\n",
        "\n",
        "#Fill in NaN in ['AgeGroup']\n",
        "for id in T_null_check.index:\n",
        "  if T.loc[id,'SibSp'] >= 1  and T.loc[id, 'Parch'] >= 1:\n",
        "    T.loc[id,'AgeGroup'] = 'Minor'\n",
        "  elif T.loc[id,'SibSp'] >= 1 or T.loc[id, 'Parch'] >= 1:\n",
        "    T.loc[id,'AgeGroup'] = 'Adult'\n",
        "  else:\n",
        "    T.loc[id,'AgeGroup'] = 'Elder'\n",
        "\n",
        "T.isnull().sum()\n",
        "\n",
        "T.loc[T['Fare'].isnull()]\n",
        "\n",
        "mean = T.groupby('Pclass').mean()['Fare'][3] #mean=average(Pclass 3)'s fare\n",
        "\n",
        "T['Fare'] = T['Fare'].fillna(value=mean) #FillNA with mean\n",
        "\n",
        "T.loc[1044]\n",
        "\n",
        "T = T[label_X_train_cols] #keep training columns\n",
        "\n",
        "label_T = T.copy()"
      ],
      "execution_count": 18,
      "outputs": []
    },
    {
      "cell_type": "code",
      "metadata": {
        "id": "C4GaeBb6Bzf9"
      },
      "source": [
        "# Apply label encoder to each column with categorical data\n",
        "label_encoder = LabelEncoder()\n",
        "for col in object_cols:\n",
        "  label_X_train[col] = label_encoder.fit_transform(X_train[col])\n",
        "  label_T[col] = label_encoder.transform(T[col])\n",
        "\n",
        "label_T\n",
        "\n",
        "preds_T = model.predict(label_T) #making predictions\n",
        "\n",
        "preds_T\n",
        "\n",
        "preds_T_round = preds_T.round()\n",
        "\n",
        "preds_T_round\n",
        "\n",
        "preds_T_int = preds_T_round.astype(int)\n",
        "\n",
        "preds_T_int\n",
        "\n",
        "output = pd.DataFrame({'PassengerId': label_T.index,\n",
        "                       'Survived': preds_T_int})\n",
        "output.to_csv('submission.csv', index=False)\n",
        "files.download('submission.csv')\n",
        "#-----------finish--------------#"
      ],
      "execution_count": 19,
      "outputs": []
    },
    {
      "cell_type": "code",
      "metadata": {
        "id": "f13b9FvkCFWt"
      },
      "source": [
        "#-------try less columns------#\n",
        "\n",
        "label_X_train_less = label_X_train.drop(['SibSp','Parch','Fare'], axis=1)\n",
        "\n",
        "label_X_train_less\n",
        "\n",
        "label_X_valid_less = label_X_valid.drop(['SibSp','Parch','Fare'], axis=1)"
      ],
      "execution_count": 20,
      "outputs": []
    },
    {
      "cell_type": "code",
      "metadata": {
        "id": "b6rJndr6CXLh"
      },
      "source": [
        "MAE_less = {} \n",
        "for i in range(100,1001, 50):\n",
        "  model = RandomForestRegressor(n_estimators=i, criterion='mse')\n",
        "  model.fit(label_X_train_less, y_train)\n",
        "  preds = model.predict(label_X_valid_less)\n",
        "  print(f'n_estimators={i}:','MAE:', mean_absolute_error(y_valid, preds))\n",
        "  MAE_less[f'n_estimators={i}'] = mean_absolute_error(y_valid, preds)"
      ],
      "execution_count": null,
      "outputs": []
    },
    {
      "cell_type": "code",
      "metadata": {
        "id": "rn3_M1RRCZE2"
      },
      "source": [
        "sorted_MAE_less_RFR = sorted(MAE_less.items(), key=lambda kv: kv[1])\n",
        "\n",
        "sorted_MAE_less_RFR"
      ],
      "execution_count": null,
      "outputs": []
    },
    {
      "cell_type": "code",
      "metadata": {
        "id": "5WxyGNmkCeC0",
        "outputId": "9ead9816-658b-4f37-bf3d-d800186d1190",
        "colab": {
          "base_uri": "https://localhost:8080/",
          "height": 35
        }
      },
      "source": [
        "model_700 = RandomForestRegressor(n_estimators=700, criterion='mse')\n",
        "model_700.fit(label_X_train_less, y_train)\n",
        "preds_700 = model_700.predict(label_X_valid_less)\n",
        "print(mean_absolute_error(y_valid, preds_700))"
      ],
      "execution_count": 29,
      "outputs": [
        {
          "output_type": "stream",
          "text": [
            "0.2893424434426432\n"
          ],
          "name": "stdout"
        }
      ]
    },
    {
      "cell_type": "code",
      "metadata": {
        "id": "gktZxos-CwYe"
      },
      "source": [
        "preds_700_round = preds_700.round()"
      ],
      "execution_count": 30,
      "outputs": []
    },
    {
      "cell_type": "code",
      "metadata": {
        "id": "O4yIVgg1DA2u",
        "outputId": "d63a49b3-89c3-4995-9558-96464e78afee",
        "colab": {
          "base_uri": "https://localhost:8080/",
          "height": 35
        }
      },
      "source": [
        "#predcitions accuracy\n",
        "correct_predicts_700 = 0\n",
        "total_predicts_700 = 0\n",
        "for i in range(len(y_valid)):\n",
        "  if y_valid.iloc[i] == preds_700_round[i]:\n",
        "    correct_predicts_700 += 1\n",
        "  total_predicts_700 +=1\n",
        "print('prediction accuracy = {}'.format(correct_predicts_700/total_predicts_700))"
      ],
      "execution_count": 31,
      "outputs": [
        {
          "output_type": "stream",
          "text": [
            "prediction accuracy = 0.7533632286995515\n"
          ],
          "name": "stdout"
        }
      ]
    },
    {
      "cell_type": "code",
      "metadata": {
        "id": "lR5I4bgTDEfo"
      },
      "source": [
        "cm_700 = confusion_matrix(y_valid, preds_700_round)"
      ],
      "execution_count": 32,
      "outputs": []
    },
    {
      "cell_type": "code",
      "metadata": {
        "id": "ErDmN5WZDICv",
        "outputId": "4180bf09-62b6-4257-9e4a-bdd062ae2612",
        "colab": {
          "base_uri": "https://localhost:8080/",
          "height": 52
        }
      },
      "source": [
        "cm_700"
      ],
      "execution_count": 33,
      "outputs": [
        {
          "output_type": "execute_result",
          "data": {
            "text/plain": [
              "array([[114,  14],\n",
              "       [ 41,  54]])"
            ]
          },
          "metadata": {
            "tags": []
          },
          "execution_count": 33
        }
      ]
    },
    {
      "cell_type": "code",
      "metadata": {
        "id": "JOWPJRY6DLKZ"
      },
      "source": [
        "#------------Preprocessing \"test\" data(LESS COLS)---------------#\n",
        "titanic_test = titanic_test.set_index('PassengerId')\n",
        "\n",
        "titanic_test.shape\n",
        "\n",
        "titanic_test['AgeGroup']=pd.cut(titanic_test['Age'],[0,19,65,100], labels=['Minor','Adult','Elder']) #age catgorized\n",
        "\n",
        "titanic_test.isnull().sum()\n",
        "\n",
        "label_X_train.columns\n",
        "\n",
        "label_X_train_cols_less = []\n",
        "for i in label_X_train_less.columns:\n",
        "  label_X_train_cols_less.append(i)\n",
        "\n",
        "titanic_test = titanic_test.drop('Age', axis=1)\n",
        "\n",
        "T = titanic_test\n",
        "\n",
        "T.loc[T['AgeGroup'].isnull()]\n",
        "\n",
        "T_null_check = T.loc[T['AgeGroup'].isnull()] #Null check\n",
        "\n",
        "T_null_check.index\n"
      ],
      "execution_count": null,
      "outputs": []
    },
    {
      "cell_type": "code",
      "metadata": {
        "id": "6w4V5JH0DSja"
      },
      "source": [
        "#Fill in NaN in ['AgeGroup']\n",
        "for id in T_null_check.index:\n",
        "  if T.loc[id,'SibSp'] >= 1  and T.loc[id, 'Parch'] >= 1:\n",
        "    T.loc[id,'AgeGroup'] = 'Minor'\n",
        "  elif T.loc[id,'SibSp'] >= 1 or T.loc[id, 'Parch'] >= 1:\n",
        "    T.loc[id,'AgeGroup'] = 'Adult'\n",
        "  else:\n",
        "    T.loc[id,'AgeGroup'] = 'Elder'\n",
        "\n",
        "T.isnull().sum()\n",
        "\n",
        "T.loc[T['Fare'].isnull()]\n",
        "\n",
        "mean = T.groupby('Pclass').mean()['Fare'][3] #mean=average(Pclass 3)'s fare\n",
        "\n",
        "T['Fare'] = T['Fare'].fillna(value=mean) #FillNA with mean\n",
        "\n",
        "T.loc[1044]\n",
        "\n",
        "T_less = T[label_X_train_cols_less] #keep training columns\n",
        "\n",
        "label_T_less = T_less.copy()\n"
      ],
      "execution_count": 37,
      "outputs": []
    },
    {
      "cell_type": "code",
      "metadata": {
        "id": "yKBxPalCDfAK"
      },
      "source": [
        "# Apply label encoder to each column with categorical data\n",
        "label_encoder = LabelEncoder()\n",
        "for col in object_cols:\n",
        "  label_X_train_less[col] = label_encoder.fit_transform(X_train[col])\n",
        "  label_T_less[col] = label_encoder.transform(T_less[col])\n",
        "\n",
        "label_T_less\n",
        "\n",
        "preds_T_less = model_700.predict(label_T_less) #making predictions\n",
        "\n",
        "preds_T_less\n",
        "\n",
        "preds_T_less_round = preds_T_less.round()\n",
        "\n",
        "preds_T_less_round\n",
        "\n",
        "preds_T_less_int = preds_T_less_round.astype(int)\n",
        "\n",
        "preds_T_less_int\n",
        "\n",
        "output = pd.DataFrame({'PassengerId': label_T_less.index,\n",
        "                       'Survived': preds_T_less_int})\n",
        "output.to_csv('submission.csv', index=False)"
      ],
      "execution_count": 38,
      "outputs": []
    },
    {
      "cell_type": "code",
      "metadata": {
        "id": "5yfSDQW5Diwl"
      },
      "source": [
        ""
      ],
      "execution_count": null,
      "outputs": []
    }
  ]
}